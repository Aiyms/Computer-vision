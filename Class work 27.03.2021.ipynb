{
 "cells": [
  {
   "cell_type": "code",
   "execution_count": 9,
   "metadata": {},
   "outputs": [],
   "source": [
    "## 3\n",
    "def solution_3(A):\n",
    "    unique=[i for i in A if A.count(i)== 1]\n",
    "    return unique"
   ]
  },
  {
   "cell_type": "code",
   "execution_count": 10,
   "metadata": {},
   "outputs": [
    {
     "data": {
      "text/plain": [
       "[7]"
      ]
     },
     "execution_count": 10,
     "metadata": {},
     "output_type": "execute_result"
    }
   ],
   "source": [
    "A = [9,3,9,3,9,7]\n",
    "solution_3(A)"
   ]
  },
  {
   "cell_type": "code",
   "execution_count": 5,
   "metadata": {},
   "outputs": [],
   "source": [
    "## 1\n",
    "from itertools import groupby\n",
    "def solution_1(n):\n",
    "    b = ''\n",
    "    while n > 0:\n",
    "        b = str(n % 2) + b\n",
    "        n = n // 2\n",
    "        v = int(b)\n",
    "    print(max(len(list(v)) for k, v in groupby(b.strip(\"0\")) if k == \"0\")) "
   ]
  },
  {
   "cell_type": "code",
   "execution_count": 8,
   "metadata": {},
   "outputs": [
    {
     "name": "stdout",
     "output_type": "stream",
     "text": [
      "1041\n",
      "5\n"
     ]
    }
   ],
   "source": [
    "n = solution_1(int(input()))"
   ]
  }
 ],
 "metadata": {
  "kernelspec": {
   "display_name": "Python 3",
   "language": "python",
   "name": "python3"
  },
  "language_info": {
   "codemirror_mode": {
    "name": "ipython",
    "version": 3
   },
   "file_extension": ".py",
   "mimetype": "text/x-python",
   "name": "python",
   "nbconvert_exporter": "python",
   "pygments_lexer": "ipython3",
   "version": "3.7.4"
  }
 },
 "nbformat": 4,
 "nbformat_minor": 2
}
